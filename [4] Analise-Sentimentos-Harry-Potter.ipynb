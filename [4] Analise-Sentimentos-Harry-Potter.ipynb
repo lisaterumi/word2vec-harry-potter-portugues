{
 "cells": [
  {
   "cell_type": "markdown",
   "metadata": {
    "id": "jd0xl83ec2Qq"
   },
   "source": [
    "# Análise de Sentimentos\n",
    "Vamos fazer uma análise de sentimentos de cada livro, buscando a quantidade de frases com polaridade positiva, negativa ou neutras.\n",
    "\n",
    "Com isso, pretendemos identificar o principal sentimento de cada livro.\n"
   ]
  },
  {
   "cell_type": "markdown",
   "metadata": {
    "id": "dRk7ES50JJca"
   },
   "source": [
    "### Polyglot\n",
    "Vamos usar uma biblioteca simples que pode ser usadas para detectar a polaridade de textos (negativo ou positivo).\n",
    "\n",
    "Vamos usar a [Polyglot](https://polyglot.readthedocs.io/en/latest/index.html) que tem suporte a lingua portuguesa.\n",
    "\n",
    "#### Instalar Polyglot\n",
    "Primeiro, temos que instalar algumas dependências (acrescente a \"!\" se estiver no Colab):\n",
    "\n",
    "```!pip install -U git+https://github.com/aboSamoor/polyglot.git@master```"
   ]
  },
  {
   "cell_type": "code",
   "execution_count": 1,
   "metadata": {
    "colab": {
     "base_uri": "https://localhost:8080/"
    },
    "id": "TmDJ2orVDM8C",
    "outputId": "3b3416be-8dbb-45ed-c1e7-92f98598123b"
   },
   "outputs": [
    {
     "name": "stdout",
     "output_type": "stream",
     "text": [
      "Collecting git+https://github.com/aboSamoor/polyglot.git@master\n",
      "  Cloning https://github.com/aboSamoor/polyglot.git (to revision master) to /tmp/pip-req-build-t7il7mjo\n",
      "  Running command git clone -q https://github.com/aboSamoor/polyglot.git /tmp/pip-req-build-t7il7mjo\n",
      "Requirement already satisfied, skipping upgrade: numpy>=1.6.1 in /usr/local/lib/python3.6/dist-packages (from polyglot==16.7.4) (1.19.4)\n",
      "Requirement already satisfied, skipping upgrade: six>=1.7.3 in /usr/local/lib/python3.6/dist-packages (from polyglot==16.7.4) (1.15.0)\n",
      "Collecting pycld2>=0.3\n",
      "\u001b[?25l  Downloading https://files.pythonhosted.org/packages/21/d2/8b0def84a53c88d0eb27c67b05269fbd16ad68df8c78849e7b5d65e6aec3/pycld2-0.41.tar.gz (41.4MB)\n",
      "\u001b[K     |████████████████████████████████| 41.4MB 103kB/s \n",
      "\u001b[?25hCollecting PyICU>=1.8\n",
      "\u001b[?25l  Downloading https://files.pythonhosted.org/packages/31/46/fa08c8efae2951e67681ec24319f789fc1a74e2096dd74373e34c79319de/PyICU-2.6.tar.gz (233kB)\n",
      "\u001b[K     |████████████████████████████████| 235kB 51.9MB/s \n",
      "\u001b[?25hCollecting futures>=2.1.6\n",
      "  Downloading https://files.pythonhosted.org/packages/05/80/f41cca0ea1ff69bce7e7a7d76182b47bb4e1a494380a532af3e8ee70b9ec/futures-3.1.1-py3-none-any.whl\n",
      "Requirement already satisfied, skipping upgrade: wheel>=0.23.0 in /usr/local/lib/python3.6/dist-packages (from polyglot==16.7.4) (0.36.2)\n",
      "Collecting morfessor>=2.0.2a1\n",
      "  Downloading https://files.pythonhosted.org/packages/39/e6/7afea30be2ee4d29ce9de0fa53acbb033163615f849515c0b1956ad074ee/Morfessor-2.0.6-py3-none-any.whl\n",
      "Building wheels for collected packages: polyglot, pycld2, PyICU\n",
      "  Building wheel for polyglot (setup.py) ... \u001b[?25l\u001b[?25hdone\n",
      "  Created wheel for polyglot: filename=polyglot-16.7.4-py2.py3-none-any.whl size=70643 sha256=05307c582f9f18925bfd2cc161770832ee7c6e45f6a1cee329500e91f600afa0\n",
      "  Stored in directory: /tmp/pip-ephem-wheel-cache-n6geb_uu/wheels/42/d9/73/345c7ae8554299ff8b31635d64eb8455fd591385fa734cdbef\n",
      "  Building wheel for pycld2 (setup.py) ... \u001b[?25l\u001b[?25hdone\n",
      "  Created wheel for pycld2: filename=pycld2-0.41-cp36-cp36m-linux_x86_64.whl size=9833539 sha256=0593a17ca55e46d8efbf3200c1e810c82c76216366dffac3ee075e12ca705742\n",
      "  Stored in directory: /root/.cache/pip/wheels/c6/8f/e9/08a1a8932a490175bd140206cd86a3dbcfc70498100de11079\n",
      "  Building wheel for PyICU (setup.py) ... \u001b[?25l\u001b[?25hdone\n",
      "  Created wheel for PyICU: filename=PyICU-2.6-cp36-cp36m-linux_x86_64.whl size=1288204 sha256=412c9e7ca42d2a32a24ff8e7be3f7ac9cf7b946658d9757199d2b99427b8c2c4\n",
      "  Stored in directory: /root/.cache/pip/wheels/31/21/2f/1c91831e8a93537ab21f6b4b935781b681104635fdb0315791\n",
      "Successfully built polyglot pycld2 PyICU\n",
      "Installing collected packages: pycld2, PyICU, futures, morfessor, polyglot\n",
      "Successfully installed PyICU-2.6 futures-3.1.1 morfessor-2.0.6 polyglot-16.7.4 pycld2-0.41\n"
     ]
    }
   ],
   "source": [
    "pip install -U git+https://github.com/aboSamoor/polyglot.git@master"
   ]
  },
  {
   "cell_type": "code",
   "execution_count": 9,
   "metadata": {
    "colab": {
     "base_uri": "https://localhost:8080/"
    },
    "id": "JwKo3HzVJ1dS",
    "outputId": "8564e70f-b2bf-401b-e864-7bdf4b727b2b"
   },
   "outputs": [
    {
     "name": "stdout",
     "output_type": "stream",
     "text": [
      "[polyglot_data] Downloading collection 'LANG:pt'\n",
      "[polyglot_data]    | \n",
      "[polyglot_data]    | Downloading package sgns2.pt to\n",
      "[polyglot_data]    |     /root/polyglot_data...\n",
      "[polyglot_data]    |   Package sgns2.pt is already up-to-date!\n",
      "[polyglot_data]    | Downloading package unipos.pt to\n",
      "[polyglot_data]    |     /root/polyglot_data...\n",
      "[polyglot_data]    | Downloading package ner2.pt to\n",
      "[polyglot_data]    |     /root/polyglot_data...\n",
      "[polyglot_data]    |   Package ner2.pt is already up-to-date!\n",
      "[polyglot_data]    | Downloading package counts2.pt to\n",
      "[polyglot_data]    |     /root/polyglot_data...\n",
      "[polyglot_data]    |   Package counts2.pt is already up-to-date!\n",
      "[polyglot_data]    | Downloading package transliteration2.pt to\n",
      "[polyglot_data]    |     /root/polyglot_data...\n",
      "[polyglot_data]    |   Package transliteration2.pt is already up-to-\n",
      "[polyglot_data]    |       date!\n",
      "[polyglot_data]    | Downloading package embeddings2.pt to\n",
      "[polyglot_data]    |     /root/polyglot_data...\n",
      "[polyglot_data]    |   Package embeddings2.pt is already up-to-date!\n",
      "[polyglot_data]    | Downloading package uniemb.pt to\n",
      "[polyglot_data]    |     /root/polyglot_data...\n",
      "[polyglot_data]    | Downloading package pos2.pt to\n",
      "[polyglot_data]    |     /root/polyglot_data...\n",
      "[polyglot_data]    |   Package pos2.pt is already up-to-date!\n",
      "[polyglot_data]    | Downloading package sentiment2.pt to\n",
      "[polyglot_data]    |     /root/polyglot_data...\n",
      "[polyglot_data]    |   Package sentiment2.pt is already up-to-date!\n",
      "[polyglot_data]    | Downloading package tsne2.pt to\n",
      "[polyglot_data]    |     /root/polyglot_data...\n",
      "[polyglot_data]    |   Package tsne2.pt is already up-to-date!\n",
      "[polyglot_data]    | Downloading package morph2.pt to\n",
      "[polyglot_data]    |     /root/polyglot_data...\n",
      "[polyglot_data]    |   Package morph2.pt is already up-to-date!\n",
      "[polyglot_data]    | \n",
      "[polyglot_data]  Done downloading collection LANG:pt\n"
     ]
    }
   ],
   "source": [
    "import polyglot\n",
    "from polyglot.text import Text\n",
    "# Baixa o léxicos da lingua portuguesa\n",
    "!polyglot download LANG:pt"
   ]
  },
  {
   "cell_type": "markdown",
   "metadata": {},
   "source": [
    "### Análise de sentimentos\n",
    "Agora que já instalamos a biblioteca, vamos fazer um primeiro teste com a ```polyglot```. Neste teste, ela está retornando a polaridade de cada palavra da nossa frase."
   ]
  },
  {
   "cell_type": "code",
   "execution_count": 11,
   "metadata": {
    "colab": {
     "base_uri": "https://localhost:8080/"
    },
    "id": "wG5kUirJBsbf",
    "outputId": "14b6b3d1-1284-4b95-d3de-d9e60afcdaa1"
   },
   "outputs": [
    {
     "name": "stdout",
     "output_type": "stream",
     "text": [
      "Word            Polarity\n",
      "------------------------------\n",
      "O                0\n",
      "filme            0\n",
      "que              0\n",
      "vimos            0\n",
      "é                0\n",
      "realmente        0\n",
      "muito            1\n",
      "bom              1\n",
      "!                0\n"
     ]
    }
   ],
   "source": [
    "text = Text(\"O filme que vimos é realmente muito bom!\")\n",
    "print(\"{:<16}{}\".format(\"Word\", \"Polarity\")+\"\\n\"+\"-\"*30)\n",
    "for w in text.words:\n",
    "    print(\"{:<16}{:>2}\".format(w, w.polarity))"
   ]
  },
  {
   "cell_type": "markdown",
   "metadata": {},
   "source": [
    "### Abrir o corpus de cada livro\n",
    "Vou mostrar aqui como geramos a análise de sentimentos para um livro, depois é só replicar o código para os demais."
   ]
  },
  {
   "cell_type": "code",
   "execution_count": 5,
   "metadata": {
    "id": "9Ib0XQxLGp9G"
   },
   "outputs": [],
   "source": [
    "import pandas as pd\n"
   ]
  },
  {
   "cell_type": "code",
   "execution_count": 95,
   "metadata": {
    "colab": {
     "base_uri": "https://localhost:8080/",
     "height": 419
    },
    "id": "2XTaEQ46Gemn",
    "outputId": "eed765a4-f952-4e2d-ecd5-c8acbba258a0"
   },
   "outputs": [
    {
     "data": {
      "text/html": [
       "<div>\n",
       "<style scoped>\n",
       "    .dataframe tbody tr th:only-of-type {\n",
       "        vertical-align: middle;\n",
       "    }\n",
       "\n",
       "    .dataframe tbody tr th {\n",
       "        vertical-align: top;\n",
       "    }\n",
       "\n",
       "    .dataframe thead th {\n",
       "        text-align: right;\n",
       "    }\n",
       "</style>\n",
       "<table border=\"1\" class=\"dataframe\">\n",
       "  <thead>\n",
       "    <tr style=\"text-align: right;\">\n",
       "      <th></th>\n",
       "      <th>lines</th>\n",
       "    </tr>\n",
       "  </thead>\n",
       "  <tbody>\n",
       "    <tr>\n",
       "      <th>0</th>\n",
       "      <td>oh o tormento gerar corrido o gritar agudo mor...</td>\n",
       "    </tr>\n",
       "    <tr>\n",
       "      <th>1</th>\n",
       "      <td>existir curar casar e nao dela nao nao deles l...</td>\n",
       "    </tr>\n",
       "    <tr>\n",
       "      <th>2</th>\n",
       "      <td>cantar voce deus treva o terra\\n</td>\n",
       "    </tr>\n",
       "    <tr>\n",
       "      <th>3</th>\n",
       "      <td>oucam abencoados poder subterraneos atender o ...</td>\n",
       "    </tr>\n",
       "    <tr>\n",
       "      <th>4</th>\n",
       "      <td>abencoe criancas lhe o triunfar\\n</td>\n",
       "    </tr>\n",
       "    <tr>\n",
       "      <th>...</th>\n",
       "      <td>...</td>\n",
       "    </tr>\n",
       "    <tr>\n",
       "      <th>10770</th>\n",
       "      <td>o trem dobrar esquinar\\n</td>\n",
       "    </tr>\n",
       "    <tr>\n",
       "      <th>10771</th>\n",
       "      <td>o mao harry levantar despedir\\n</td>\n",
       "    </tr>\n",
       "    <tr>\n",
       "      <th>10772</th>\n",
       "      <td>ficar murmurar ginny\\n</td>\n",
       "    </tr>\n",
       "    <tr>\n",
       "      <th>10773</th>\n",
       "      <td>harry olhar abaixar o mao distraidamente e toc...</td>\n",
       "    </tr>\n",
       "    <tr>\n",
       "      <th>10774</th>\n",
       "      <td>o cicatriz nao doia o harry ha dezenove ano</td>\n",
       "    </tr>\n",
       "  </tbody>\n",
       "</table>\n",
       "<p>10775 rows × 1 columns</p>\n",
       "</div>"
      ],
      "text/plain": [
       "                                                   lines\n",
       "0      oh o tormento gerar corrido o gritar agudo mor...\n",
       "1      existir curar casar e nao dela nao nao deles l...\n",
       "2                       cantar voce deus treva o terra\\n\n",
       "3      oucam abencoados poder subterraneos atender o ...\n",
       "4                      abencoe criancas lhe o triunfar\\n\n",
       "...                                                  ...\n",
       "10770                           o trem dobrar esquinar\\n\n",
       "10771                    o mao harry levantar despedir\\n\n",
       "10772                             ficar murmurar ginny\\n\n",
       "10773  harry olhar abaixar o mao distraidamente e toc...\n",
       "10774        o cicatriz nao doia o harry ha dezenove ano\n",
       "\n",
       "[10775 rows x 1 columns]"
      ]
     },
     "execution_count": 95,
     "metadata": {
      "tags": []
     },
     "output_type": "execute_result"
    }
   ],
   "source": [
    "file = open(\"livro7.txt\", \"r\", encoding='UTF-8')\n",
    "df = pd.DataFrame(file)\n",
    "df.columns = ['lines']\n",
    "df = df.sort_index()\n",
    "file.close()\n",
    "df"
   ]
  },
  {
   "cell_type": "code",
   "execution_count": 56,
   "metadata": {
    "colab": {
     "base_uri": "https://localhost:8080/",
     "height": 419
    },
    "id": "JzbiAq-jIAVj",
    "outputId": "29c2c837-dc32-43b5-ffc5-0ae9e1b368f5"
   },
   "outputs": [
    {
     "data": {
      "text/html": [
       "<div>\n",
       "<style scoped>\n",
       "    .dataframe tbody tr th:only-of-type {\n",
       "        vertical-align: middle;\n",
       "    }\n",
       "\n",
       "    .dataframe tbody tr th {\n",
       "        vertical-align: top;\n",
       "    }\n",
       "\n",
       "    .dataframe thead th {\n",
       "        text-align: right;\n",
       "    }\n",
       "</style>\n",
       "<table border=\"1\" class=\"dataframe\">\n",
       "  <thead>\n",
       "    <tr style=\"text-align: right;\">\n",
       "      <th></th>\n",
       "      <th>lines</th>\n",
       "    </tr>\n",
       "  </thead>\n",
       "  <tbody>\n",
       "    <tr>\n",
       "      <th>0</th>\n",
       "      <td>nao discussao irromper durante o cafe manha nu...</td>\n",
       "    </tr>\n",
       "    <tr>\n",
       "      <th>1</th>\n",
       "      <td>vernon dursley acordar primeiro horar manha ba...</td>\n",
       "    </tr>\n",
       "    <tr>\n",
       "      <th>2</th>\n",
       "      <td>semana rugir o mesa\\n</td>\n",
       "    </tr>\n",
       "    <tr>\n",
       "      <th>3</th>\n",
       "      <td>voce nao conseguir controlar corujar harry ten...</td>\n",
       "    </tr>\n",
       "    <tr>\n",
       "      <th>4</th>\n",
       "      <td>entediar dizer\\n</td>\n",
       "    </tr>\n",
       "    <tr>\n",
       "      <th>...</th>\n",
       "      <td>...</td>\n",
       "    </tr>\n",
       "    <tr>\n",
       "      <th>5367</th>\n",
       "      <td>chamar dursleys ok nao aguentar duda conversar\\n</td>\n",
       "    </tr>\n",
       "    <tr>\n",
       "      <th>5368</th>\n",
       "      <td>tio e tio ficarao orgulhoso nao e dizer hermio...</td>\n",
       "    </tr>\n",
       "    <tr>\n",
       "      <th>5369</th>\n",
       "      <td>ouvir o voce ano orgulhoso dizer harry\\n</td>\n",
       "    </tr>\n",
       "    <tr>\n",
       "      <th>5370</th>\n",
       "      <td>voce e louco poder morrer e nao conseguir vao ...</td>\n",
       "    </tr>\n",
       "    <tr>\n",
       "      <th>5371</th>\n",
       "      <td>e junto caminhar voltar portal o mundo trouxa</td>\n",
       "    </tr>\n",
       "  </tbody>\n",
       "</table>\n",
       "<p>5372 rows × 1 columns</p>\n",
       "</div>"
      ],
      "text/plain": [
       "                                                  lines\n",
       "0     nao discussao irromper durante o cafe manha nu...\n",
       "1     vernon dursley acordar primeiro horar manha ba...\n",
       "2                                 semana rugir o mesa\\n\n",
       "3     voce nao conseguir controlar corujar harry ten...\n",
       "4                                      entediar dizer\\n\n",
       "...                                                 ...\n",
       "5367   chamar dursleys ok nao aguentar duda conversar\\n\n",
       "5368  tio e tio ficarao orgulhoso nao e dizer hermio...\n",
       "5369           ouvir o voce ano orgulhoso dizer harry\\n\n",
       "5370  voce e louco poder morrer e nao conseguir vao ...\n",
       "5371      e junto caminhar voltar portal o mundo trouxa\n",
       "\n",
       "[5372 rows x 1 columns]"
      ]
     },
     "execution_count": 56,
     "metadata": {
      "tags": []
     },
     "output_type": "execute_result"
    }
   ],
   "source": [
    "df"
   ]
  },
  {
   "cell_type": "markdown",
   "metadata": {},
   "source": [
    "#### Vamos contar quantas frases positivas, negativas e neutras tem o livro\n",
    "Além das frases positivas e negativas, também existem as frases neutras, por iss ovamos contabilizá-las.\n",
    "\n",
    "Como tiramos os acentos, *stopwords* e aplicamos a lematização, algumas vezes o *polyglot* não consegue entender a frase e gera uma exceção. Por isso tivemos que tratar essa situação."
   ]
  },
  {
   "cell_type": "code",
   "execution_count": 96,
   "metadata": {
    "colab": {
     "base_uri": "https://localhost:8080/"
    },
    "id": "k_ovjxX0G50S",
    "outputId": "475a2af9-16ee-4930-b32b-9e758d0b44e9"
   },
   "outputs": [
    {
     "name": "stdout",
     "output_type": "stream",
     "text": [
      "\u001b[1;30;43mA saída de streaming foi truncada nas últimas 5000 linhas.\u001b[0m\n",
      "\n",
      "Polaridade: -0.3333333333333333 >>> lupin jovem tambem e surrar e cabelar grosso e escuro\n",
      "\n",
      "\n",
      "Polaridade: 0.0 >>> parecer feliz voltar o familiar palco tanto andancas adolescente\n",
      "\n",
      "\n",
      "Polaridade: 0.0 >>> parecer feliz voltar o familiar palco tanto andancas adolescente\n",
      "\n",
      "\n",
      "Polaridade: 1.0 >>> o sorriso lily o amplo\n",
      "\n",
      "\n",
      "Polaridade: 1.0 >>> o sorriso lily o amplo\n",
      "\n",
      "\n",
      "Polaridade: 0.6 >>> empurrar o cabelar tras aproximar dele e ver olho tao parecido dele procurar rostir avidez ser capaz olhar o suficiente\n",
      "\n",
      "\n",
      "Polaridade: 0.6 >>> empurrar o cabelar tras aproximar dele e ver olho tao parecido dele procurar rostir avidez ser capaz olhar o suficiente\n",
      "\n",
      "\n",
      "ERRO: \n",
      "voce tao corajoso\n",
      "\n",
      "Polaridade: 0.6 >>> voce tao corajoso\n",
      "\n",
      "\n",
      "Polaridade: 0.0 >>> nao conseguir falar\n",
      "\n",
      "\n",
      "Polaridade: 0.0 >>> nao conseguir falar\n",
      "\n",
      "\n",
      "Polaridade: 1.0 >>> olho deleitar e pensar gostar ficar pe e olhar e o suficiente\n",
      "\n",
      "\n",
      "Polaridade: 1.0 >>> olho deleitar e pensar gostar ficar pe e olhar e o suficiente\n",
      "\n",
      "\n",
      "Polaridade: 0.0 >>> voce quase o dizer james\n",
      "\n",
      "\n",
      "Polaridade: 0.0 >>> voce quase o dizer james\n",
      "\n",
      "\n",
      "Polaridade: 1.0 >>> tao orgulhoso voce\n",
      "\n",
      "\n",
      "Polaridade: 1.0 >>> tao orgulhoso voce\n",
      "\n",
      "\n",
      "Polaridade: 0.0 >>> doi o perguntar infantil sair labios harry poder dete o\n",
      "\n",
      "\n",
      "Polaridade: 0.0 >>> doi o perguntar infantil sair labios harry poder dete o\n",
      "\n",
      "\n",
      "Polaridade: -1.0 >>> morrer jeito nenhum dizer sirius\n",
      "\n",
      "\n",
      "Polaridade: -1.0 >>> morrer jeito nenhum dizer sirius\n",
      "\n",
      "\n",
      "ERRO: \n",
      "rapido e facil adormecer\n",
      "\n",
      "Polaridade: -1.0 >>> rapido e facil adormecer\n",
      "\n",
      "\n",
      "Polaridade: 1.0 >>> e querer ser rapido\n",
      "\n",
      "\n",
      "Polaridade: 1.0 >>> e querer ser rapido\n",
      "\n",
      "\n",
      "Polaridade: 0.0 >>> acabar dizer lupin\n",
      "\n",
      "\n",
      "Polaridade: 0.0 >>> acabar dizer lupin\n",
      "\n",
      "\n",
      "Polaridade: -1.0 >>> nao querer voce morrer dizer harry\n",
      "\n",
      "\n",
      "Polaridade: -1.0 >>> nao querer voce morrer dizer harry\n",
      "\n",
      "\n",
      "Polaridade: 0.0 >>> palavra vir vontade\n",
      "\n",
      "\n",
      "Polaridade: 0.0 >>> palavra vir vontade\n",
      "\n",
      "\n",
      "ERRO: \n",
      "sentir dirigir o lupin deles suplicar o\n",
      "\n",
      "Polaridade: 0.0 >>> sentir dirigir o lupin deles suplicar o\n",
      "\n",
      "\n",
      "Polaridade: 0.0 >>> voce filhar\n",
      "\n",
      "\n",
      "Polaridade: 0.0 >>> voce filhar\n",
      "\n",
      "\n",
      "Polaridade: 0.0 >>> remus sentir tambem sentir dizer lupin\n",
      "\n",
      "\n",
      "Polaridade: 0.0 >>> remus sentir tambem sentir dizer lupin\n",
      "\n",
      "\n",
      "Polaridade: -1.0 >>> desculpar ir conhecer o\n",
      "\n",
      "\n",
      "Polaridade: -1.0 >>> desculpar ir conhecer o\n",
      "\n",
      "\n",
      "Polaridade: -1.0 >>> morrer e esperar entender\n",
      "\n",
      "\n",
      "Polaridade: -1.0 >>> morrer e esperar entender\n",
      "\n",
      "\n",
      "ERRO: \n",
      "tentar mundo poder viver vidar feliz\n",
      "\n",
      "Polaridade: -1.0 >>> tentar mundo poder viver vidar feliz\n",
      "\n",
      "\n",
      "Polaridade: 0.0 >>> brisa frio parecer emanar coracao florestar levantar cabelo testo harry\n",
      "\n",
      "\n",
      "Polaridade: 0.0 >>> brisa frio parecer emanar coracao florestar levantar cabelo testo harry\n",
      "\n",
      "\n",
      "Polaridade: 1.0 >>> saber nao iriar o ter decisao\n",
      "\n",
      "\n",
      "Polaridade: 1.0 >>> saber nao iriar o ter decisao\n",
      "\n",
      "\n"
     ]
    }
   ],
   "source": [
    "qtdeFrasesPos = 0\n",
    "qtdeFrasesNeg = 0\n",
    "qtdeFrasesNeu = 0\n",
    "qtdeFrasesErr = 0\n",
    "\n",
    "# Percorre as frases\n",
    "for frase in df['lines']: \n",
    "\n",
    "  text = Text(frase)\n",
    "  try:\n",
    "    result = text.polarity\n",
    "    print(\"Polaridade: \" + str(result) + \" >>> \" + frase + \"\\n\")\n",
    "  except:\n",
    "    print(\"ERRO: \")\n",
    "    print(text)\n",
    "    qtdeFrasesErr += 1\n",
    "    #raise\n",
    "  \n",
    "  # Faz contagem das polaridades\n",
    "  if result > 0:\n",
    "    qtdeFrasesPos += 1\n",
    "  elif result < 0:\n",
    "    qtdeFrasesNeg += 1\n",
    "  else:\n",
    "    qtdeFrasesNeu += 1\n",
    "                               \n",
    "  # Imprime \n",
    "  print(\"Polaridade: \" + str(result) + \" >>> \" + frase + \"\\n\")\n"
   ]
  },
  {
   "cell_type": "code",
   "execution_count": 97,
   "metadata": {
    "colab": {
     "base_uri": "https://localhost:8080/"
    },
    "id": "-5rVMUNOJHgZ",
    "outputId": "38cffc98-19c1-496e-dd4f-5de538de6de2"
   },
   "outputs": [
    {
     "name": "stdout",
     "output_type": "stream",
     "text": [
      "qtdeFrasesPos: 2274\n",
      "qtdeFrasesNeg: 4803\n",
      "qtdeFrasesNeu: 3698\n",
      "qtdeFrasesErr: 2200\n"
     ]
    }
   ],
   "source": [
    "print(\"qtdeFrasesPos: \"+str(qtdeFrasesPos))\n",
    "print(\"qtdeFrasesNeg: \"+str(qtdeFrasesNeg))\n",
    "print(\"qtdeFrasesNeu: \"+str(qtdeFrasesNeu))\n",
    "print(\"qtdeFrasesErr: \"+str(qtdeFrasesErr))"
   ]
  },
  {
   "cell_type": "code",
   "execution_count": 98,
   "metadata": {
    "colab": {
     "base_uri": "https://localhost:8080/"
    },
    "id": "_sJjSe_sfoQS",
    "outputId": "a7e83c75-2b82-4936-9f26-74941f29a3e1"
   },
   "outputs": [
    {
     "name": "stdout",
     "output_type": "stream",
     "text": [
      "POSITIVOS: 21.104408352668212%\n",
      "NEGATIVOS: 44.5754060324826%\n",
      "NEUTROS: 34.32018561484919%\n"
     ]
    }
   ],
   "source": [
    "# Agora calculamos as porcentagens\n",
    "print(\"POSITIVOS: {}%\".format(100*qtdeFrasesPos/(qtdeFrasesPos+qtdeFrasesNeg+qtdeFrasesNeu))) \n",
    "print(\"NEGATIVOS: {}%\".format(100*qtdeFrasesNeg/(qtdeFrasesPos+qtdeFrasesNeg+qtdeFrasesNeu))) \n",
    "print(\"NEUTROS: {}%\".format(100*qtdeFrasesNeu/(qtdeFrasesPos+qtdeFrasesNeg+qtdeFrasesNeu))) "
   ]
  },
  {
   "cell_type": "code",
   "execution_count": 99,
   "metadata": {
    "id": "O9pE2WL7Q1L_"
   },
   "outputs": [],
   "source": [
    "sentimentoPositivoLivro7=100*qtdeFrasesPos/(qtdeFrasesPos+qtdeFrasesNeg+qtdeFrasesNeu)\n",
    "sentimentoNegativoLivro7=100*qtdeFrasesNeg/(qtdeFrasesPos+qtdeFrasesNeg+qtdeFrasesNeu)\n",
    "sentimentoNeutroLivro7=100*qtdeFrasesNeu/(qtdeFrasesPos+qtdeFrasesNeg+qtdeFrasesNeu)"
   ]
  },
  {
   "cell_type": "code",
   "execution_count": 100,
   "metadata": {
    "colab": {
     "base_uri": "https://localhost:8080/",
     "height": 377
    },
    "id": "UOhN8xdNQ2lt",
    "outputId": "6abf2666-76fe-4c21-d616-452c9a849703"
   },
   "outputs": [
    {
     "data": {
      "image/png": "[encoded data removed]",
      "text/plain": [
       "<Figure size 432x432 with 1 Axes>"
      ]
     },
     "metadata": {
      "tags": []
     },
     "output_type": "display_data"
    }
   ],
   "source": [
    "fig=plt.figure(figsize=(6,6))\n",
    "plt.pie([sentimentoPositivoLivro7, sentimentoNegativoLivro7, sentimentoNeutroLivro7],labels=['Positivo', 'Negativo', 'Neutro'],colors=['green', 'red', 'blue'])\n",
    "plt.ylabel('')\n",
    "plt.title('Polaridade',fontsize='18')\n",
    "plt.show()"
   ]
  },
  {
   "cell_type": "markdown",
   "metadata": {
    "id": "a35KIKzWQioI"
   },
   "source": [
    "## Análise de sentimentos"
   ]
  },
  {
   "cell_type": "markdown",
   "metadata": {
    "id": "1-vK2fPsifmV"
   },
   "source": [
    "Agora vamos colocar todas as quantidades que encontramos em um gráfico de barras, para comparar os sentimentos ao longo dos livros."
   ]
  },
  {
   "cell_type": "code",
   "execution_count": 113,
   "metadata": {
    "colab": {
     "base_uri": "https://localhost:8080/",
     "height": 369
    },
    "id": "DAmF_epqLXdp",
    "outputId": "506abe5f-215c-48ea-ca21-900aeb2fa4e8"
   },
   "outputs": [
    {
     "data": {
      "image/png": "[encoded data removed]",
      "text/plain": [
       "<Figure size 1080x360 with 1 Axes>"
      ]
     },
     "metadata": {
      "needs_background": "light",
      "tags": []
     },
     "output_type": "display_data"
    }
   ],
   "source": [
    "import matplotlib\n",
    "import matplotlib.pyplot as plt\n",
    "import numpy as np\n",
    "\n",
    "labels = ['Livro 1', 'Livro 2', 'Livro 3', 'Livro 4', 'Livro 5', 'Livro 6', 'Livro 7']\n",
    "positivo = [sentimentoPositivoLivro1, sentimentoPositivoLivro2, sentimentoPositivoLivro3, sentimentoPositivoLivro4, sentimentoPositivoLivro5, sentimentoPositivoLivro6, sentimentoPositivoLivro7]\n",
    "negativo = [sentimentoNegativoLivro1, sentimentoNegativoLivro2, sentimentoNegativoLivro3, sentimentoNegativoLivro4, sentimentoNegativoLivro5, sentimentoNegativoLivro6, sentimentoNegativoLivro7]\n",
    "neutro = [sentimentoNeutroLivro1, sentimentoNeutroLivro2, sentimentoNeutroLivro3, sentimentoNeutroLivro4, sentimentoNeutroLivro5, sentimentoNeutroLivro6, sentimentoNeutroLivro7]\n",
    "\n",
    "x = np.arange(len(labels))  # localizacao ds rotulos\n",
    "width = 0.25  # comprimento das barra s\n",
    "\n",
    "fig, ax = plt.subplots(figsize=(15,5))\n",
    "\n",
    "# arredondando os valores para duas casas decimais\n",
    "positivo1 = [round(valor,2) for valor in positivo]\n",
    "negativo1 = [round(valor,2) for valor in negativo]\n",
    "neutro1 = [round(valor,2) for valor in neutro]\n",
    "\n",
    "rects1 = ax.bar(x-width, positivo1, width, label='Positivo', color='g')\n",
    "rects2 = ax.bar(x, negativo1, width, label='Negativo', color='r')\n",
    "rects3 = ax.bar(x+width, neutro1, width, label='Neutro', color='b')\n",
    "\n",
    "# Adicionando textos dos rotulos\n",
    "\n",
    "ax.set_ylabel('Porcentagem (%)')\n",
    "ax.set_title('Polaridade dos sentimentos ao longo dos 7 livros')\n",
    "ax.set_xticks(x)\n",
    "ax.set_xticklabels(labels)\n",
    "ax.legend(fontsize = 14)\n",
    "\n",
    "def autolabel(rects):\n",
    "    for rect in rects:\n",
    "        height = rect.get_height()\n",
    "        ax.annotate('{}'.format(height),\n",
    "                    xy=(rect.get_x() + rect.get_width(), height),\n",
    "                    xytext=(0, 3),  # 3 points vertical offset\n",
    "                    textcoords=\"offset points\",\n",
    "                    ha='center', va='bottom')\n",
    "\n",
    "autolabel(rects1)\n",
    "autolabel(rects2)\n",
    "autolabel(rects3)\n",
    "\n",
    "fig.tight_layout()\n",
    "\n",
    "plt.show()\n"
   ]
  },
  {
   "cell_type": "markdown",
   "metadata": {},
   "source": [
    "Como podemos ver, todos os livros apresentam uma porcentagem menor de frases positivas em reação às negativas e neutras (no nosso cálculo de similaridade, não estamos levando em conta as frases que deram erro ao tentar extrair a polaridade).\n",
    "\n",
    "Isso nos mostra que todos os livros seguem um certo padrão, os dados sugerem que não existe um livro mais \"alegre\" e outro mais \"sombrio\"."
   ]
  },
  {
   "cell_type": "code",
   "execution_count": null,
   "metadata": {},
   "outputs": [],
   "source": []
  }
 ],
 "metadata": {
  "colab": {
   "collapsed_sections": [],
   "name": "[Harry Potter] Análise de Sentimentos.ipynb",
   "provenance": []
  },
  "kernelspec": {
   "display_name": "Python 3",
   "language": "python",
   "name": "python3"
  },
  "language_info": {
   "codemirror_mode": {
    "name": "ipython",
    "version": 3
   },
   "file_extension": ".py",
   "mimetype": "text/x-python",
   "name": "python",
   "nbconvert_exporter": "python",
   "pygments_lexer": "ipython3",
   "version": "3.6.12"
  }
 },
 "nbformat": 4,
 "nbformat_minor": 1
}
